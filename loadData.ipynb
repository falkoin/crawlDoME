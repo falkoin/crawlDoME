{
 "cells": [
  {
   "cell_type": "markdown",
   "metadata": {},
   "source": [
    "# Scrape data of Database of Modern Exhibitions (DoME)\n",
    "\n"
   ]
  },
  {
   "cell_type": "markdown",
   "metadata": {},
   "source": [
    "## Imports"
   ]
  },
  {
   "cell_type": "code",
   "execution_count": 48,
   "metadata": {},
   "outputs": [],
   "source": [
    "import pandas as pd\n",
    "import numpy as np\n",
    "from collections import Counter\n",
    "from matplotlib import pyplot as plt\n",
    "import urllib.request\n",
    "import urllib.parse\n",
    "from bs4 import BeautifulSoup\n",
    "import re\n",
    "import json"
   ]
  },
  {
   "cell_type": "markdown",
   "metadata": {},
   "source": [
    "## Load Artists"
   ]
  },
  {
   "cell_type": "code",
   "execution_count": 49,
   "metadata": {},
   "outputs": [],
   "source": [
    "person = pd.read_excel(\"Person.xlsx\")"
   ]
  },
  {
   "cell_type": "markdown",
   "metadata": {},
   "source": [
    "## Functions"
   ]
  },
  {
   "cell_type": "code",
   "execution_count": 53,
   "metadata": {},
   "outputs": [],
   "source": [
    "def get_page_name(wikidata_id):\n",
    "    with urllib.request.urlopen('https://www.wikidata.org/wiki/Special:EntityData/' + wikidata_id + '.json') as url:\n",
    "        data = json.loads(url.read().decode())\n",
    "    page_name = data['entities'][wikidata_id]['labels']['en']['value']\n",
    "    return page_name\n",
    "\n",
    "def get_pageview_by_name(page_name):    \n",
    "    html_page_name = urllib.parse.quote(page_name)\n",
    "    print(html_page_name)\n",
    "    name_string = 'https://wikimedia.org/api/rest_v1/metrics/pageviews/per-article/en.wikipedia.org/all-access/all-agents/' + html_page_name + '/monthly/19800101/20200601'\n",
    "    try:\n",
    "        with urllib.request.urlopen(name_string) as url:\n",
    "            data = json.loads(url.read().decode())\n",
    "        page_views = []\n",
    "        for item in data['items']:\n",
    "            page_views.append(int(item['views']))\n",
    "    except:\n",
    "        page_views = 0\n",
    "    return page_views"
   ]
  },
  {
   "cell_type": "markdown",
   "metadata": {},
   "source": [
    "## Scrape data\n",
    "This code takes the id from the artists table and uses a url to download informations about all exhibitions this particular artist had been attending. \n",
    "It also scrapes data of the total number of cities and countries that particular artist attended."
   ]
  },
  {
   "cell_type": "code",
   "execution_count": 54,
   "metadata": {},
   "outputs": [
    {
     "name": "stdout",
     "output_type": "stream",
     "text": [
      "0 - Now at Artist: Renoir, Pierre-Auguste\n",
      "Pierre-Auguste%20Renoir\n",
      "Reading URL\n",
      "URL finished loading\n",
      "1 - Now at Artist: Cézanne, Paul\n",
      "Paul%20C%C3%A9zanne\n",
      "Reading URL\n",
      "URL finished loading\n",
      "2 - Now at Artist: Gogh, Vincent van\n",
      "Vincent%20van%20Gogh\n",
      "Reading URL\n",
      "URL finished loading\n",
      "3 - Now at Artist: Bonnard, Pierre\n",
      "Pierre%20Bonnard\n",
      "Reading URL\n",
      "URL finished loading\n",
      "4 - Now at Artist: Vuillard, Edouard\n",
      "%C3%89douard%20Vuillard\n",
      "Reading URL\n",
      "URL finished loading\n",
      "5 - Now at Artist: Monet, Claude\n",
      "Claude%20Monet\n",
      "Reading URL\n",
      "URL finished loading\n",
      "6 - Now at Artist: Pissarro, Camille\n",
      "Camille%20Pissarro\n",
      "Reading URL\n",
      "URL finished loading\n",
      "7 - Now at Artist: Liebermann, Max\n",
      "Max%20Liebermann\n",
      "Reading URL\n",
      "URL finished loading\n",
      "8 - Now at Artist: Matisse, Henri\n",
      "Henri%20Matisse\n",
      "Reading URL\n",
      "URL finished loading\n",
      "9 - Now at Artist: Manet, Edouard\n",
      "%C3%89douard%20Manet\n",
      "Reading URL\n",
      "URL finished loading\n",
      "10 - Now at Artist: Denis, Maurice\n",
      "Maurice%20Denis\n",
      "Reading URL\n",
      "URL finished loading\n",
      "11 - Now at Artist: Hübner, Ulrich\n",
      "Ulrich%20H%C3%BCbner\n",
      "Reading URL\n",
      "URL finished loading\n",
      "12 - Now at Artist: Gauguin, Paul\n",
      "Paul%20Gauguin\n",
      "Reading URL\n",
      "URL finished loading\n",
      "13 - Now at Artist: Kandinsky, Vassily\n",
      "Wassily%20Kandinsky\n",
      "Reading URL\n",
      "URL finished loading\n",
      "14 - Now at Artist: Corinth, Lovis\n",
      "Lovis%20Corinth\n",
      "Reading URL\n",
      "URL finished loading\n",
      "15 - Now at Artist: Sisley, Alfred\n",
      "Alfred%20Sisley\n",
      "Reading URL\n",
      "URL finished loading\n",
      "16 - Now at Artist: Courbet, Gustave\n",
      "Gustave%20Courbet\n",
      "Reading URL\n",
      "URL finished loading\n",
      "17 - Now at Artist: Friesz, Othon\n",
      "Othon%20Friesz\n",
      "Reading URL\n",
      "URL finished loading\n",
      "18 - Now at Artist: Manguin, Henri Charles\n",
      "Henri%20Manguin\n",
      "Reading URL\n",
      "URL finished loading\n",
      "19 - Now at Artist: Signac, Paul\n",
      "Paul%20Signac\n",
      "Reading URL\n",
      "URL finished loading\n",
      "20 - Now at Artist: Dongen, Kees van\n",
      "Kees%20van%20Dongen\n",
      "Reading URL\n",
      "URL finished loading\n",
      "21 - Now at Artist: Hayek, Hans von\n",
      "Hans%20von%20Hayek\n",
      "Reading URL\n",
      "URL finished loading\n",
      "22 - Now at Artist: Habermann, Hugo von\n",
      "Hugo%20von%20Habermann\n",
      "Reading URL\n",
      "URL finished loading\n",
      "23 - Now at Artist: Hodler, Ferdinand\n",
      "Ferdinand%20Hodler\n",
      "Reading URL\n",
      "URL finished loading\n",
      "24 - Now at Artist: Trübner, Wilhelm\n",
      "Wilhelm%20Tr%C3%BCbner\n",
      "Reading URL\n",
      "URL finished loading\n",
      "25 - Now at Artist: Roussel, Ker-Xavier\n",
      "Ker-Xavier%20Roussel\n",
      "Reading URL\n",
      "URL finished loading\n",
      "26 - Now at Artist: Degas, Edgar\n",
      "Edgar%20Degas\n",
      "Reading URL\n",
      "URL finished loading\n",
      "27 - Now at Artist: Marquet, Albert\n",
      "Albert%20Marquet\n",
      "Reading URL\n",
      "URL finished loading\n",
      "28 - Now at Artist: Munch, Edvard\n",
      "Edvard%20Munch\n",
      "Reading URL\n",
      "URL finished loading\n",
      "29 - Now at Artist: Vallotton, Félix\n",
      "F%C3%A9lix%20Vallotton\n",
      "Reading URL\n",
      "URL finished loading\n",
      "30 - Now at Artist: Picasso, Pablo\n",
      "Pablo%20Picasso\n",
      "Reading URL\n",
      "URL finished loading\n",
      "31 - Now at Artist: Slevogt, Max\n",
      "Max%20Slevogt\n",
      "Reading URL\n",
      "URL finished loading\n",
      "32 - Now at Artist: Brockhusen, Theo von\n",
      "Theo%20von%20Brockhusen\n",
      "Reading URL\n",
      "URL finished loading\n",
      "33 - Now at Artist: Orlik, Emil\n",
      "Emil%20Orl%C3%ADk\n",
      "Reading URL\n",
      "URL finished loading\n",
      "34 - Now at Artist: Uhde, Fritz von\n",
      "Fritz%20von%20Uhde\n",
      "Reading URL\n",
      "URL finished loading\n",
      "35 - Now at Artist: Sickert, Walter Richard\n",
      "Walter%20Sickert\n",
      "Reading URL\n",
      "URL finished loading\n",
      "36 - Now at Artist: Derain, André\n",
      "Andr%C3%A9%20Derain\n",
      "Reading URL\n",
      "URL finished loading\n",
      "37 - Now at Artist: Kalckreuth, Leopold\n",
      "Leopold%20Graf%20von%20Kalckreuth\n",
      "Reading URL\n",
      "URL finished loading\n",
      "38 - Now at Artist: Kardorff, Konrad von\n",
      "Konrad%20von%20Kardorff\n",
      "Reading URL\n",
      "URL finished loading\n",
      "39 - Now at Artist: Rösler, Waldemar\n",
      "Waldemar%20R%C3%B6sler\n",
      "Reading URL\n",
      "URL finished loading\n",
      "40 - Now at Artist: Rysselberghe, Théo van\n",
      "Th%C3%A9o%20van%20Rysselberghe\n",
      "Reading URL\n",
      "URL finished loading\n",
      "41 - Now at Artist: Laprade, Pierre\n",
      "Pierre%20Laprade\n",
      "Reading URL\n",
      "URL finished loading\n",
      "42 - Now at Artist: Pechstein, Max\n",
      "Max%20Pechstein\n",
      "Reading URL\n",
      "URL finished loading\n",
      "43 - Now at Artist: Beckmann, Max\n",
      "Max%20Beckmann\n",
      "Reading URL\n",
      "URL finished loading\n",
      "44 - Now at Artist: Stuck, Franz von\n",
      "Franz%20Stuck\n",
      "Reading URL\n",
      "URL finished loading\n",
      "45 - Now at Artist: Leistikow, Walter\n",
      "Walter%20Leistikow\n",
      "Reading URL\n",
      "URL finished loading\n",
      "46 - Now at Artist: Pietzsch, Richard\n",
      "Richard%20Pietzsch\n",
      "Reading URL\n",
      "URL finished loading\n",
      "47 - Now at Artist: Schramm-Zittau, Rudolf\n",
      "Rudolf%20Schramm-Zittau\n",
      "Reading URL\n",
      "URL finished loading\n",
      "48 - Now at Artist: Spiro, Eugen\n",
      "Eugene%20Spiro\n",
      "Reading URL\n",
      "URL finished loading\n",
      "49 - Now at Artist: Jawlensky, Alexei\n",
      "Alexej%20von%20Jawlensky\n",
      "Reading URL\n",
      "URL finished loading\n",
      "50 - Now at Artist: Rhein, Fritz\n",
      "Fritz%20Rhein\n",
      "Reading URL\n",
      "URL finished loading\n",
      "51 - Now at Artist: Oppler, Ernst\n",
      "Ernst%20Oppler\n",
      "Reading URL\n",
      "URL finished loading\n",
      "52 - Now at Artist: Vlaminck, Maurice de\n",
      "Maurice%20de%20Vlaminck\n",
      "Reading URL\n",
      "URL finished loading\n",
      "53 - Now at Artist: Besnard, Albert\n",
      "Paul-Albert%20Besnard\n",
      "Reading URL\n",
      "URL finished loading\n",
      "54 - Now at Artist: Cross, Henri Edmond\n",
      "Henri-Edmond%20Cross\n",
      "Reading URL\n",
      "URL finished loading\n",
      "55 - Now at Artist: Guérin, Charles-François-Prosper\n",
      "Charles-Fran%C3%A7ois-Prosper%20Gu%C3%A9rin\n",
      "Reading URL\n",
      "URL finished loading\n",
      "56 - Now at Artist: Redon, Odilon\n",
      "Odilon%20Redon\n",
      "Reading URL\n",
      "URL finished loading\n",
      "57 - Now at Artist: Toulouse-Lautrec, Henri de\n",
      "Henri%20de%20Toulouse-Lautrec\n",
      "Reading URL\n",
      "URL finished loading\n",
      "58 - Now at Artist: Weiss, Emil Rudolf\n",
      "Emil%20Rudolf%20Weiss\n",
      "Reading URL\n",
      "URL finished loading\n",
      "59 - Now at Artist: Raffaëlli, Jean-François\n",
      "Jean-Fran%C3%A7ois%20Raffa%C3%ABlli\n",
      "Reading URL\n",
      "URL finished loading\n",
      "60 - Now at Artist: Sterl, Robert Hermann\n",
      "Robert%20Sterl\n",
      "Reading URL\n",
      "URL finished loading\n",
      "61 - Now at Artist: Carrière, Eugène\n",
      "Eug%C3%A8ne%20Carri%C3%A8re\n",
      "Reading URL\n",
      "URL finished loading\n",
      "62 - Now at Artist: Flandrin, Jules Leon\n",
      "Jules%20Flandrin\n",
      "Reading URL\n",
      "URL finished loading\n",
      "63 - Now at Artist: Hübner, Heinrich\n",
      "Heinrich%20H%C3%BCbner\n",
      "Reading URL\n",
      "URL finished loading\n",
      "64 - Now at Artist: Nissl, Rudolf\n",
      "Rudolf%20Nissl\n",
      "Reading URL\n",
      "URL finished loading\n",
      "65 - Now at Artist: Thoma, Hans\n",
      "Hans%20Thoma\n",
      "Reading URL\n",
      "URL finished loading\n",
      "66 - Now at Artist: Bauriedl, Otto\n",
      "Otto%20Bauriedl\n",
      "Reading URL\n",
      "URL finished loading\n",
      "67 - Now at Artist: Breyer, Robert\n",
      "Robert%20Breyer\n",
      "Reading URL\n",
      "URL finished loading\n",
      "68 - Now at Artist: Corot, Jean-Baptiste-Camille\n",
      "Jean-Baptiste%20Camille%20Corot\n",
      "Reading URL\n",
      "URL finished loading\n",
      "69 - Now at Artist: Delacroix, Eugène\n",
      "Eug%C3%A8ne%20Delacroix\n",
      "Reading URL\n",
      "URL finished loading\n",
      "70 - Now at Artist: Goncharova, Natalia\n",
      "Natalia%20Goncharova\n",
      "Reading URL\n",
      "URL finished loading\n",
      "71 - Now at Artist: Groeber, Hermann\n",
      "Hermann%20Groeber\n",
      "Reading URL\n",
      "URL finished loading\n",
      "72 - Now at Artist: Larionov, Mikhail\n",
      "Mikhail%20Larionov\n",
      "Reading URL\n",
      "URL finished loading\n",
      "73 - Now at Artist: Zügel, Heinrich von\n",
      "Heinrich%20von%20Z%C3%BCgel\n",
      "Reading URL\n",
      "URL finished loading\n",
      "74 - Now at Artist: Girieud, Pierre Paul\n",
      "Pierre%20Paul%20Girieud\n",
      "Reading URL\n",
      "URL finished loading\n",
      "75 - Now at Artist: Kaiser, Richard\n",
      "Richard%20Kaiser\n",
      "Reading URL\n",
      "URL finished loading\n",
      "76 - Now at Artist: Pissarro, Lucien\n",
      "Lucien%20Pissarro\n",
      "Reading URL\n",
      "URL finished loading\n",
      "77 - Now at Artist: Puy, Jean\n",
      "Jean%20Puy\n",
      "Reading URL\n",
      "URL finished loading\n",
      "78 - Now at Artist: Braque, Georges\n",
      "Georges%20Braque\n",
      "Reading URL\n",
      "URL finished loading\n",
      "79 - Now at Artist: Daumier, Honoré\n",
      "Honor%C3%A9%20Daumier\n",
      "Reading URL\n",
      "URL finished loading\n",
      "80 - Now at Artist: Guillaumin, Armand\n",
      "Armand%20Guillaumin\n",
      "Reading URL\n",
      "URL finished loading\n",
      "81 - Now at Artist: Hegenbarth, Emanuel\n",
      "Emanuel%20Hegenbarth\n",
      "Reading URL\n",
      "URL finished loading\n",
      "82 - Now at Artist: Meyer-Basel, Carl Theodor\n",
      "Carl%20Theodor%20Meyer-Basel\n",
      "Reading URL\n",
      "URL finished loading\n",
      "83 - Now at Artist: Tarkhoff, Nicolas Alexandrovitch\n",
      "Nicolas%20Tarkhov\n",
      "Reading URL\n",
      "URL finished loading\n",
      "84 - Now at Artist: Crodel, Paul Eduard\n",
      "Paul%20Eduard%20Crodel\n",
      "Reading URL\n",
      "URL finished loading\n",
      "85 - Now at Artist: Dufrenoy, Georges Léon\n",
      "Georges%20Dufr%C3%A9noy\n",
      "Reading URL\n",
      "URL finished loading\n",
      "86 - Now at Artist: Faure, Amandus\n",
      "Amandus%20Faure\n",
      "Reading URL\n",
      "URL finished loading\n",
      "87 - Now at Artist: Franck, Philipp\n",
      "Philipp%20Franck\n",
      "Reading URL\n",
      "URL finished loading\n",
      "88 - Now at Artist: Hummel, Theodor\n",
      "Theodor%20Hummel\n",
      "Reading URL\n",
      "URL finished loading\n",
      "89 - Now at Artist: Kirchner, Ernst Ludwig\n",
      "Ernst%20Ludwig%20Kirchner\n",
      "Reading URL\n",
      "URL finished loading\n",
      "90 - Now at Artist: Klein, Von Diepold Leo\n",
      "Leo%20Klein%20von%20Diepold\n",
      "Reading URL\n",
      "URL finished loading\n",
      "91 - Now at Artist: Linde-Walther, Heinrich Eduard\n",
      "Heinrich%20Eduard%20Linde-Walther\n",
      "Reading URL\n",
      "URL finished loading\n",
      "92 - Now at Artist: Marc, Franz\n",
      "Franz%20Marc\n",
      "Reading URL\n",
      "URL finished loading\n",
      "93 - Now at Artist: Moll, Oskar\n",
      "Oskar%20Moll\n",
      "Reading URL\n",
      "URL finished loading\n",
      "94 - Now at Artist: Münter, Gabriele\n",
      "Gabriele%20M%C3%BCnter\n",
      "Reading URL\n",
      "URL finished loading\n",
      "95 - Now at Artist: Burlyuk, David\n",
      "David%20Burliuk\n",
      "Reading URL\n",
      "URL finished loading\n",
      "96 - Now at Artist: Camoin, Charles\n",
      "Charles%20Camoin\n",
      "Reading URL\n",
      "URL finished loading\n",
      "97 - Now at Artist: Dobuzhinsky, Mstislav\n",
      "Mstislav%20Dobuzhinsky\n",
      "Reading URL\n",
      "URL finished loading\n",
      "98 - Now at Artist: Pascin, Jules\n",
      "Jules%20Pascin\n",
      "Reading URL\n",
      "URL finished loading\n",
      "99 - Now at Artist: Rich, Alfred William\n",
      "Alfred%20William%20Rich\n",
      "Reading URL\n",
      "URL finished loading\n",
      "100 - Now at Artist: Seyler, Julius\n",
      "Julius%20Seyler\n",
      "Reading URL\n",
      "URL finished loading\n"
     ]
    }
   ],
   "source": [
    "artist = {}\n",
    "for index, row in person.iterrows():\n",
    "    print(\"{0} - Now at Artist: {1}\".format(index, row[\"Name\"]))\n",
    "    artistInfo = {}\n",
    "    id = row[\"ID\"]\n",
    "    artistInfo[\"id\"] = id\n",
    "    export = pd.read_excel(\"https://exhibitions.univie.ac.at/person/\" + str(id) + \"/exhibition/csv\")\n",
    "    cities = Counter(export[\"City\"].tolist())\n",
    "    # print(cities)\n",
    "    artistInfo[\"cities\"] = cities\n",
    "    artistInfo[\"gender\"] = row[\"Gender\"]\n",
    "    artistInfo[\"nExhibitions\"] = row[\"# Exhibitions\"]\n",
    "    artist[row[\"Name\"]] = artistInfo\n",
    "    pageName = get_page_name(row[\"Wikidata\"])\n",
    "    pageViews = get_pageview_by_name(pageName)\n",
    "    artistInfo[\"PageViews\"] = np.mean(pageViews)\n",
    "    # Gets cities and countries\n",
    "    url = \"https://exhibitions.univie.ac.at/person/\" + str(id)\n",
    "    print(\"Reading URL\")\n",
    "    opener = urllib.request.urlopen(url)\n",
    "    print(\"URL finished loading\")\n",
    "    content = opener.read()\n",
    "    soup = BeautifulSoup(content,'lxml')\n",
    "    supa = soup.findAll(\"div\", { \"class\" : \"artist-information-text-stats\" })\n",
    "    exPerCountry = supa[-2] # exhibitions per country\n",
    "    exPerCity = supa[-1] # exhibitions per city\n",
    "    exPerCountryText = exPerCountry.get_text()\n",
    "    exPerCityText = exPerCity.get_text()\n",
    "    nExPerCountry = re.sub('\\D', '', exPerCountryText)\n",
    "    nExPerCity = re.sub('\\D', '', exPerCityText)\n",
    "    artistInfo[\"exhibitions per country\"] = nExPerCountry\n",
    "    artistInfo[\"exhibitions per city\"] = nExPerCity\n",
    "    if index > 99:\n",
    "        break\n",
    "    "
   ]
  },
  {
   "cell_type": "code",
   "execution_count": null,
   "metadata": {},
   "outputs": [],
   "source": []
  },
  {
   "cell_type": "markdown",
   "metadata": {},
   "source": [
    "## Cleanup of the table"
   ]
  },
  {
   "cell_type": "code",
   "execution_count": 55,
   "metadata": {},
   "outputs": [],
   "source": [
    "del person[\"Status\"]"
   ]
  },
  {
   "cell_type": "code",
   "execution_count": 56,
   "metadata": {},
   "outputs": [],
   "source": [
    "person = person.drop(person.index[101:])"
   ]
  },
  {
   "cell_type": "markdown",
   "metadata": {},
   "source": [
    "## Reformat city and country data"
   ]
  },
  {
   "cell_type": "code",
   "execution_count": 60,
   "metadata": {},
   "outputs": [],
   "source": [
    "allExPerCity = []\n",
    "allExPerCountry = []\n",
    "allPageViews = []\n",
    "for item in artist:\n",
    "    allExPerCountry.append(int(artist[item][\"exhibitions per country\"]))\n",
    "    allExPerCity.append(int(artist[item][\"exhibitions per city\"]))\n",
    "    allPageViews.append(int(artist[item][\"PageViews\"]))\n",
    "    \n",
    "person[\"Exhibitions per country\"] = allExPerCountry\n",
    "person[\"Exhibitions per city\"] = allExPerCity\n",
    "person[\"Page views\"] = allPageViews"
   ]
  },
  {
   "cell_type": "markdown",
   "metadata": {},
   "source": [
    "## Get a unique list of all cities visited by the artists and fill number of visits for each city"
   ]
  },
  {
   "cell_type": "code",
   "execution_count": 61,
   "metadata": {},
   "outputs": [],
   "source": [
    "allCities = []\n",
    "for entry in artist:\n",
    "    allCities += (list(artist[entry][\"cities\"].keys()))\n",
    "    \n",
    "uniqueCities = np.unique(allCities)\n",
    "for city in uniqueCities:\n",
    "    cityList = []\n",
    "    for index, row in person.iterrows():\n",
    "        cityList.append(artist[row[\"Name\"]][\"cities\"][city])\n",
    "    person[city] = cityList\n",
    "\n"
   ]
  },
  {
   "cell_type": "markdown",
   "metadata": {},
   "source": [
    "## Save data to XLSX"
   ]
  },
  {
   "cell_type": "code",
   "execution_count": 62,
   "metadata": {},
   "outputs": [],
   "source": [
    "person.to_excel(\"overview.xlsx\")\n",
    "person.to_hdf(\"overview.h5\", key='df')"
   ]
  },
  {
   "cell_type": "code",
   "execution_count": null,
   "metadata": {},
   "outputs": [],
   "source": []
  },
  {
   "cell_type": "code",
   "execution_count": null,
   "metadata": {},
   "outputs": [],
   "source": [
    "fig, axes = plt.subplots(figsize=(30,2))\n",
    "barHeight = artist[\"Renoir, Pierre-Auguste\"][\"cities\"].values()\n",
    "barString = artist[\"Renoir, Pierre-Auguste\"][\"cities\"].keys()\n",
    "axes.bar(barString, barHeight)\n",
    "plt.savefig(\"beispiel.png\", format=\"png\")"
   ]
  },
  {
   "cell_type": "code",
   "execution_count": 7,
   "metadata": {},
   "outputs": [],
   "source": [
    "# person = pd.read_hdf('mareisDaten.h5')\n",
    "person['Name']\n",
    "with urllib.request.urlopen('https://www.wikidata.org/wiki/Special:EntityData/Q39931.json') as url:\n",
    "    data = json.loads(url.read().decode())"
   ]
  },
  {
   "cell_type": "code",
   "execution_count": 11,
   "metadata": {},
   "outputs": [
    {
     "data": {
      "text/plain": [
       "'Pierre-Auguste Renoir'"
      ]
     },
     "execution_count": 11,
     "metadata": {},
     "output_type": "execute_result"
    }
   ],
   "source": [
    "data['entities']['Q39931']['labels']['en']['value']"
   ]
  },
  {
   "cell_type": "code",
   "execution_count": 30,
   "metadata": {},
   "outputs": [],
   "source": [
    "\n"
   ]
  },
  {
   "cell_type": "code",
   "execution_count": 52,
   "metadata": {},
   "outputs": [
    {
     "name": "stdout",
     "output_type": "stream",
     "text": [
      "Theo%20von%20Brockhusen\n"
     ]
    },
    {
     "ename": "HTTPError",
     "evalue": "HTTP Error 404: Not Found",
     "output_type": "error",
     "traceback": [
      "\u001b[0;31m---------------------------------------------------------------------------\u001b[0m",
      "\u001b[0;31mHTTPError\u001b[0m                                 Traceback (most recent call last)",
      "\u001b[0;32m<ipython-input-52-62f4743953b4>\u001b[0m in \u001b[0;36m<module>\u001b[0;34m\u001b[0m\n\u001b[0;32m----> 1\u001b[0;31m \u001b[0mdata\u001b[0m \u001b[0;34m=\u001b[0m \u001b[0mget_pageview_by_name\u001b[0m\u001b[0;34m(\u001b[0m\u001b[0;34m'Theo von Brockhusen'\u001b[0m\u001b[0;34m)\u001b[0m\u001b[0;34m\u001b[0m\u001b[0;34m\u001b[0m\u001b[0m\n\u001b[0m",
      "\u001b[0;32m<ipython-input-50-c79e21718b0f>\u001b[0m in \u001b[0;36mget_pageview_by_name\u001b[0;34m(page_name)\u001b[0m\n\u001b[1;32m      9\u001b[0m     \u001b[0mprint\u001b[0m\u001b[0;34m(\u001b[0m\u001b[0mhtml_page_name\u001b[0m\u001b[0;34m)\u001b[0m\u001b[0;34m\u001b[0m\u001b[0;34m\u001b[0m\u001b[0m\n\u001b[1;32m     10\u001b[0m     \u001b[0mname_string\u001b[0m \u001b[0;34m=\u001b[0m \u001b[0;34m'https://wikimedia.org/api/rest_v1/metrics/pageviews/per-article/en.wikipedia.org/all-access/all-agents/'\u001b[0m \u001b[0;34m+\u001b[0m \u001b[0mhtml_page_name\u001b[0m \u001b[0;34m+\u001b[0m \u001b[0;34m'/monthly/19800101/20200601'\u001b[0m\u001b[0;34m\u001b[0m\u001b[0;34m\u001b[0m\u001b[0m\n\u001b[0;32m---> 11\u001b[0;31m     \u001b[0;32mwith\u001b[0m \u001b[0murllib\u001b[0m\u001b[0;34m.\u001b[0m\u001b[0mrequest\u001b[0m\u001b[0;34m.\u001b[0m\u001b[0murlopen\u001b[0m\u001b[0;34m(\u001b[0m\u001b[0mname_string\u001b[0m\u001b[0;34m)\u001b[0m \u001b[0;32mas\u001b[0m \u001b[0murl\u001b[0m\u001b[0;34m:\u001b[0m\u001b[0;34m\u001b[0m\u001b[0;34m\u001b[0m\u001b[0m\n\u001b[0m\u001b[1;32m     12\u001b[0m         \u001b[0mdata\u001b[0m \u001b[0;34m=\u001b[0m \u001b[0mjson\u001b[0m\u001b[0;34m.\u001b[0m\u001b[0mloads\u001b[0m\u001b[0;34m(\u001b[0m\u001b[0murl\u001b[0m\u001b[0;34m.\u001b[0m\u001b[0mread\u001b[0m\u001b[0;34m(\u001b[0m\u001b[0;34m)\u001b[0m\u001b[0;34m.\u001b[0m\u001b[0mdecode\u001b[0m\u001b[0;34m(\u001b[0m\u001b[0;34m)\u001b[0m\u001b[0;34m)\u001b[0m\u001b[0;34m\u001b[0m\u001b[0;34m\u001b[0m\u001b[0m\n\u001b[1;32m     13\u001b[0m     \u001b[0mpage_views\u001b[0m \u001b[0;34m=\u001b[0m \u001b[0;34m[\u001b[0m\u001b[0;34m]\u001b[0m\u001b[0;34m\u001b[0m\u001b[0;34m\u001b[0m\u001b[0m\n",
      "\u001b[0;32m/opt/anaconda3/lib/python3.7/urllib/request.py\u001b[0m in \u001b[0;36murlopen\u001b[0;34m(url, data, timeout, cafile, capath, cadefault, context)\u001b[0m\n\u001b[1;32m    220\u001b[0m     \u001b[0;32melse\u001b[0m\u001b[0;34m:\u001b[0m\u001b[0;34m\u001b[0m\u001b[0;34m\u001b[0m\u001b[0m\n\u001b[1;32m    221\u001b[0m         \u001b[0mopener\u001b[0m \u001b[0;34m=\u001b[0m \u001b[0m_opener\u001b[0m\u001b[0;34m\u001b[0m\u001b[0;34m\u001b[0m\u001b[0m\n\u001b[0;32m--> 222\u001b[0;31m     \u001b[0;32mreturn\u001b[0m \u001b[0mopener\u001b[0m\u001b[0;34m.\u001b[0m\u001b[0mopen\u001b[0m\u001b[0;34m(\u001b[0m\u001b[0murl\u001b[0m\u001b[0;34m,\u001b[0m \u001b[0mdata\u001b[0m\u001b[0;34m,\u001b[0m \u001b[0mtimeout\u001b[0m\u001b[0;34m)\u001b[0m\u001b[0;34m\u001b[0m\u001b[0;34m\u001b[0m\u001b[0m\n\u001b[0m\u001b[1;32m    223\u001b[0m \u001b[0;34m\u001b[0m\u001b[0m\n\u001b[1;32m    224\u001b[0m \u001b[0;32mdef\u001b[0m \u001b[0minstall_opener\u001b[0m\u001b[0;34m(\u001b[0m\u001b[0mopener\u001b[0m\u001b[0;34m)\u001b[0m\u001b[0;34m:\u001b[0m\u001b[0;34m\u001b[0m\u001b[0;34m\u001b[0m\u001b[0m\n",
      "\u001b[0;32m/opt/anaconda3/lib/python3.7/urllib/request.py\u001b[0m in \u001b[0;36mopen\u001b[0;34m(self, fullurl, data, timeout)\u001b[0m\n\u001b[1;32m    529\u001b[0m         \u001b[0;32mfor\u001b[0m \u001b[0mprocessor\u001b[0m \u001b[0;32min\u001b[0m \u001b[0mself\u001b[0m\u001b[0;34m.\u001b[0m\u001b[0mprocess_response\u001b[0m\u001b[0;34m.\u001b[0m\u001b[0mget\u001b[0m\u001b[0;34m(\u001b[0m\u001b[0mprotocol\u001b[0m\u001b[0;34m,\u001b[0m \u001b[0;34m[\u001b[0m\u001b[0;34m]\u001b[0m\u001b[0;34m)\u001b[0m\u001b[0;34m:\u001b[0m\u001b[0;34m\u001b[0m\u001b[0;34m\u001b[0m\u001b[0m\n\u001b[1;32m    530\u001b[0m             \u001b[0mmeth\u001b[0m \u001b[0;34m=\u001b[0m \u001b[0mgetattr\u001b[0m\u001b[0;34m(\u001b[0m\u001b[0mprocessor\u001b[0m\u001b[0;34m,\u001b[0m \u001b[0mmeth_name\u001b[0m\u001b[0;34m)\u001b[0m\u001b[0;34m\u001b[0m\u001b[0;34m\u001b[0m\u001b[0m\n\u001b[0;32m--> 531\u001b[0;31m             \u001b[0mresponse\u001b[0m \u001b[0;34m=\u001b[0m \u001b[0mmeth\u001b[0m\u001b[0;34m(\u001b[0m\u001b[0mreq\u001b[0m\u001b[0;34m,\u001b[0m \u001b[0mresponse\u001b[0m\u001b[0;34m)\u001b[0m\u001b[0;34m\u001b[0m\u001b[0;34m\u001b[0m\u001b[0m\n\u001b[0m\u001b[1;32m    532\u001b[0m \u001b[0;34m\u001b[0m\u001b[0m\n\u001b[1;32m    533\u001b[0m         \u001b[0;32mreturn\u001b[0m \u001b[0mresponse\u001b[0m\u001b[0;34m\u001b[0m\u001b[0;34m\u001b[0m\u001b[0m\n",
      "\u001b[0;32m/opt/anaconda3/lib/python3.7/urllib/request.py\u001b[0m in \u001b[0;36mhttp_response\u001b[0;34m(self, request, response)\u001b[0m\n\u001b[1;32m    639\u001b[0m         \u001b[0;32mif\u001b[0m \u001b[0;32mnot\u001b[0m \u001b[0;34m(\u001b[0m\u001b[0;36m200\u001b[0m \u001b[0;34m<=\u001b[0m \u001b[0mcode\u001b[0m \u001b[0;34m<\u001b[0m \u001b[0;36m300\u001b[0m\u001b[0;34m)\u001b[0m\u001b[0;34m:\u001b[0m\u001b[0;34m\u001b[0m\u001b[0;34m\u001b[0m\u001b[0m\n\u001b[1;32m    640\u001b[0m             response = self.parent.error(\n\u001b[0;32m--> 641\u001b[0;31m                 'http', request, response, code, msg, hdrs)\n\u001b[0m\u001b[1;32m    642\u001b[0m \u001b[0;34m\u001b[0m\u001b[0m\n\u001b[1;32m    643\u001b[0m         \u001b[0;32mreturn\u001b[0m \u001b[0mresponse\u001b[0m\u001b[0;34m\u001b[0m\u001b[0;34m\u001b[0m\u001b[0m\n",
      "\u001b[0;32m/opt/anaconda3/lib/python3.7/urllib/request.py\u001b[0m in \u001b[0;36merror\u001b[0;34m(self, proto, *args)\u001b[0m\n\u001b[1;32m    567\u001b[0m         \u001b[0;32mif\u001b[0m \u001b[0mhttp_err\u001b[0m\u001b[0;34m:\u001b[0m\u001b[0;34m\u001b[0m\u001b[0;34m\u001b[0m\u001b[0m\n\u001b[1;32m    568\u001b[0m             \u001b[0margs\u001b[0m \u001b[0;34m=\u001b[0m \u001b[0;34m(\u001b[0m\u001b[0mdict\u001b[0m\u001b[0;34m,\u001b[0m \u001b[0;34m'default'\u001b[0m\u001b[0;34m,\u001b[0m \u001b[0;34m'http_error_default'\u001b[0m\u001b[0;34m)\u001b[0m \u001b[0;34m+\u001b[0m \u001b[0morig_args\u001b[0m\u001b[0;34m\u001b[0m\u001b[0;34m\u001b[0m\u001b[0m\n\u001b[0;32m--> 569\u001b[0;31m             \u001b[0;32mreturn\u001b[0m \u001b[0mself\u001b[0m\u001b[0;34m.\u001b[0m\u001b[0m_call_chain\u001b[0m\u001b[0;34m(\u001b[0m\u001b[0;34m*\u001b[0m\u001b[0margs\u001b[0m\u001b[0;34m)\u001b[0m\u001b[0;34m\u001b[0m\u001b[0;34m\u001b[0m\u001b[0m\n\u001b[0m\u001b[1;32m    570\u001b[0m \u001b[0;34m\u001b[0m\u001b[0m\n\u001b[1;32m    571\u001b[0m \u001b[0;31m# XXX probably also want an abstract factory that knows when it makes\u001b[0m\u001b[0;34m\u001b[0m\u001b[0;34m\u001b[0m\u001b[0;34m\u001b[0m\u001b[0m\n",
      "\u001b[0;32m/opt/anaconda3/lib/python3.7/urllib/request.py\u001b[0m in \u001b[0;36m_call_chain\u001b[0;34m(self, chain, kind, meth_name, *args)\u001b[0m\n\u001b[1;32m    501\u001b[0m         \u001b[0;32mfor\u001b[0m \u001b[0mhandler\u001b[0m \u001b[0;32min\u001b[0m \u001b[0mhandlers\u001b[0m\u001b[0;34m:\u001b[0m\u001b[0;34m\u001b[0m\u001b[0;34m\u001b[0m\u001b[0m\n\u001b[1;32m    502\u001b[0m             \u001b[0mfunc\u001b[0m \u001b[0;34m=\u001b[0m \u001b[0mgetattr\u001b[0m\u001b[0;34m(\u001b[0m\u001b[0mhandler\u001b[0m\u001b[0;34m,\u001b[0m \u001b[0mmeth_name\u001b[0m\u001b[0;34m)\u001b[0m\u001b[0;34m\u001b[0m\u001b[0;34m\u001b[0m\u001b[0m\n\u001b[0;32m--> 503\u001b[0;31m             \u001b[0mresult\u001b[0m \u001b[0;34m=\u001b[0m \u001b[0mfunc\u001b[0m\u001b[0;34m(\u001b[0m\u001b[0;34m*\u001b[0m\u001b[0margs\u001b[0m\u001b[0;34m)\u001b[0m\u001b[0;34m\u001b[0m\u001b[0;34m\u001b[0m\u001b[0m\n\u001b[0m\u001b[1;32m    504\u001b[0m             \u001b[0;32mif\u001b[0m \u001b[0mresult\u001b[0m \u001b[0;32mis\u001b[0m \u001b[0;32mnot\u001b[0m \u001b[0;32mNone\u001b[0m\u001b[0;34m:\u001b[0m\u001b[0;34m\u001b[0m\u001b[0;34m\u001b[0m\u001b[0m\n\u001b[1;32m    505\u001b[0m                 \u001b[0;32mreturn\u001b[0m \u001b[0mresult\u001b[0m\u001b[0;34m\u001b[0m\u001b[0;34m\u001b[0m\u001b[0m\n",
      "\u001b[0;32m/opt/anaconda3/lib/python3.7/urllib/request.py\u001b[0m in \u001b[0;36mhttp_error_default\u001b[0;34m(self, req, fp, code, msg, hdrs)\u001b[0m\n\u001b[1;32m    647\u001b[0m \u001b[0;32mclass\u001b[0m \u001b[0mHTTPDefaultErrorHandler\u001b[0m\u001b[0;34m(\u001b[0m\u001b[0mBaseHandler\u001b[0m\u001b[0;34m)\u001b[0m\u001b[0;34m:\u001b[0m\u001b[0;34m\u001b[0m\u001b[0;34m\u001b[0m\u001b[0m\n\u001b[1;32m    648\u001b[0m     \u001b[0;32mdef\u001b[0m \u001b[0mhttp_error_default\u001b[0m\u001b[0;34m(\u001b[0m\u001b[0mself\u001b[0m\u001b[0;34m,\u001b[0m \u001b[0mreq\u001b[0m\u001b[0;34m,\u001b[0m \u001b[0mfp\u001b[0m\u001b[0;34m,\u001b[0m \u001b[0mcode\u001b[0m\u001b[0;34m,\u001b[0m \u001b[0mmsg\u001b[0m\u001b[0;34m,\u001b[0m \u001b[0mhdrs\u001b[0m\u001b[0;34m)\u001b[0m\u001b[0;34m:\u001b[0m\u001b[0;34m\u001b[0m\u001b[0;34m\u001b[0m\u001b[0m\n\u001b[0;32m--> 649\u001b[0;31m         \u001b[0;32mraise\u001b[0m \u001b[0mHTTPError\u001b[0m\u001b[0;34m(\u001b[0m\u001b[0mreq\u001b[0m\u001b[0;34m.\u001b[0m\u001b[0mfull_url\u001b[0m\u001b[0;34m,\u001b[0m \u001b[0mcode\u001b[0m\u001b[0;34m,\u001b[0m \u001b[0mmsg\u001b[0m\u001b[0;34m,\u001b[0m \u001b[0mhdrs\u001b[0m\u001b[0;34m,\u001b[0m \u001b[0mfp\u001b[0m\u001b[0;34m)\u001b[0m\u001b[0;34m\u001b[0m\u001b[0;34m\u001b[0m\u001b[0m\n\u001b[0m\u001b[1;32m    650\u001b[0m \u001b[0;34m\u001b[0m\u001b[0m\n\u001b[1;32m    651\u001b[0m \u001b[0;32mclass\u001b[0m \u001b[0mHTTPRedirectHandler\u001b[0m\u001b[0;34m(\u001b[0m\u001b[0mBaseHandler\u001b[0m\u001b[0;34m)\u001b[0m\u001b[0;34m:\u001b[0m\u001b[0;34m\u001b[0m\u001b[0;34m\u001b[0m\u001b[0m\n",
      "\u001b[0;31mHTTPError\u001b[0m: HTTP Error 404: Not Found"
     ]
    }
   ],
   "source": [
    "data = get_pageview_by_name('Theo von Brockhusen')"
   ]
  },
  {
   "cell_type": "code",
   "execution_count": 45,
   "metadata": {},
   "outputs": [
    {
     "data": {
      "text/plain": [
       "<BarContainer object of 59 artists>"
      ]
     },
     "execution_count": 45,
     "metadata": {},
     "output_type": "execute_result"
    },
    {
     "data": {
      "image/png": "[encoded data removed]",
      "text/plain": [
       "<Figure size 432x288 with 1 Axes>"
      ]
     },
     "metadata": {
      "needs_background": "light"
     },
     "output_type": "display_data"
    }
   ],
   "source": [
    "np.mean(data)\n",
    "plt.bar(np.arange(0, len(data)), data)"
   ]
  },
  {
   "cell_type": "code",
   "execution_count": 43,
   "metadata": {},
   "outputs": [
    {
     "data": {
      "text/plain": [
       "59"
      ]
     },
     "execution_count": 43,
     "metadata": {},
     "output_type": "execute_result"
    }
   ],
   "source": [
    "len(data)\n"
   ]
  },
  {
   "cell_type": "code",
   "execution_count": 41,
   "metadata": {},
   "outputs": [
    {
     "data": {
      "text/plain": [
       "1"
      ]
     },
     "execution_count": 41,
     "metadata": {},
     "output_type": "execute_result"
    }
   ],
   "source": [
    "np.arange(1,len(data))[0]"
   ]
  },
  {
   "cell_type": "code",
   "execution_count": null,
   "metadata": {},
   "outputs": [],
   "source": []
  }
 ],
 "metadata": {
  "kernelspec": {
   "display_name": "Python 3",
   "language": "python",
   "name": "python3"
  },
  "language_info": {
   "codemirror_mode": {
    "name": "ipython",
    "version": 3
   },
   "file_extension": ".py",
   "mimetype": "text/x-python",
   "name": "python",
   "nbconvert_exporter": "python",
   "pygments_lexer": "ipython3",
   "version": "3.7.6"
  }
 },
 "nbformat": 4,
 "nbformat_minor": 4
}
